{
  "nbformat": 4,
  "nbformat_minor": 0,
  "metadata": {
    "colab": {
      "name": "Practice4 - multilayer",
      "provenance": [],
      "authorship_tag": "ABX9TyPxiWInkGtVnNXdaKoeNCs2"
    },
    "kernelspec": {
      "name": "python3",
      "display_name": "Python 3"
    }
  },
  "cells": [
    {
      "cell_type": "markdown",
      "metadata": {
        "id": "DzgIJMpzAS-Y"
      },
      "source": [
        "## 히든레이어\r\n",
        "- 보스턴 집값 예측: https://raw.githubusercontent.com/blackdew/tensorflow1/master/csv/boston.csv\r\n",
        "- 아이리스 품종 분류: https://raw.githubusercontent.com/blackdew/tensorflow1/master/csv/iris.csv"
      ]
    },
    {
      "cell_type": "code",
      "metadata": {
        "id": "0EZoHQLeAS1s"
      },
      "source": [
        "# 라이브러리 사용\r\n",
        "import tensorflow as tf\r\n",
        "import pandas as pd"
      ],
      "execution_count": 1,
      "outputs": []
    },
    {
      "cell_type": "markdown",
      "metadata": {
        "id": "VGzK2qjEAreY"
      },
      "source": [
        "## 보스턴 집값 예측\r\n",
        "#### 데이터 준비"
      ]
    },
    {
      "cell_type": "code",
      "metadata": {
        "id": "wx4jCUTw_Y9Q"
      },
      "source": [
        "Boston_file_path = 'https://raw.githubusercontent.com/blackdew/tensorflow1/master/csv/boston.csv'\r\n",
        "boston = pd.read_csv(Boston_file_path)"
      ],
      "execution_count": 2,
      "outputs": []
    },
    {
      "cell_type": "code",
      "metadata": {
        "colab": {
          "base_uri": "https://localhost:8080/"
        },
        "id": "C_QuHXqqBHaD",
        "outputId": "1a1cd935-0c65-499e-f4af-2dce9e07f991"
      },
      "source": [
        "print(boston.columns)"
      ],
      "execution_count": 6,
      "outputs": [
        {
          "output_type": "stream",
          "text": [
            "Index(['crim', 'zn', 'indus', 'chas', 'nox', 'rm', 'age', 'dis', 'rad', 'tax',\n",
            "       'ptratio', 'b', 'lstat', 'medv'],\n",
            "      dtype='object')\n"
          ],
          "name": "stdout"
        }
      ]
    },
    {
      "cell_type": "code",
      "metadata": {
        "colab": {
          "base_uri": "https://localhost:8080/"
        },
        "id": "K2YPu488A7Jy",
        "outputId": "82861c7b-5e97-425f-bd32-fd347d1ad275"
      },
      "source": [
        "# 종속변수, 독립변수\r\n",
        "independent_boston = boston[['crim', 'zn', 'indus', 'chas', 'nox', 'rm', 'age', 'dis', 'rad', 'tax', 'ptratio', 'b', 'lstat']]\r\n",
        "dependent_boston = boston[['medv']]\r\n",
        "print(independent_boston.shape, dependent_boston.shape)"
      ],
      "execution_count": 7,
      "outputs": [
        {
          "output_type": "stream",
          "text": [
            "(506, 13) (506, 1)\n"
          ],
          "name": "stdout"
        }
      ]
    },
    {
      "cell_type": "markdown",
      "metadata": {
        "id": "Bt8k9AGkBaOe"
      },
      "source": [
        "#### 모델의 구조 생성"
      ]
    },
    {
      "cell_type": "code",
      "metadata": {
        "id": "v8xoyoXxBGBR"
      },
      "source": [
        "X = tf.keras.layers.Input(shape=[13])\r\n",
        "H = tf.keras.layers.Dense(10, activation='swish')(X)\r\n",
        "Y = tf.keras.layers.Dense(1)(H)\r\n",
        "model = tf.keras.models.Model(X, Y)\r\n",
        "model.compile(loss='mse')"
      ],
      "execution_count": 9,
      "outputs": []
    },
    {
      "cell_type": "code",
      "metadata": {
        "colab": {
          "base_uri": "https://localhost:8080/"
        },
        "id": "9SkN4ndJBGyC",
        "outputId": "9d66e94a-88fd-4a4a-f8b7-6a6c395c2aaf"
      },
      "source": [
        "# 모델 구조 확인\r\n",
        "model.summary()"
      ],
      "execution_count": 10,
      "outputs": [
        {
          "output_type": "stream",
          "text": [
            "Model: \"model_1\"\n",
            "_________________________________________________________________\n",
            "Layer (type)                 Output Shape              Param #   \n",
            "=================================================================\n",
            "input_2 (InputLayer)         [(None, 13)]              0         \n",
            "_________________________________________________________________\n",
            "dense_2 (Dense)              (None, 10)                140       \n",
            "_________________________________________________________________\n",
            "dense_3 (Dense)              (None, 1)                 11        \n",
            "=================================================================\n",
            "Total params: 151\n",
            "Trainable params: 151\n",
            "Non-trainable params: 0\n",
            "_________________________________________________________________\n"
          ],
          "name": "stdout"
        }
      ]
    },
    {
      "cell_type": "markdown",
      "metadata": {
        "id": "juMdb7DFB2gI"
      },
      "source": [
        "#### 모델 학습하기(fit)"
      ]
    },
    {
      "cell_type": "code",
      "metadata": {
        "colab": {
          "base_uri": "https://localhost:8080/"
        },
        "id": "iM_ObzPGB0ap",
        "outputId": "894c019a-5f84-4151-924d-d967c024a86a"
      },
      "source": [
        "model.fit(independent_boston, dependent_boston, epochs=1000, verbose=0)\r\n",
        "model.fit(independent_boston, dependent_boston, epochs=10)"
      ],
      "execution_count": 12,
      "outputs": [
        {
          "output_type": "stream",
          "text": [
            "Epoch 1/10\n",
            "16/16 [==============================] - 0s 1ms/step - loss: 13.2731\n",
            "Epoch 2/10\n",
            "16/16 [==============================] - 0s 1ms/step - loss: 14.1418\n",
            "Epoch 3/10\n",
            "16/16 [==============================] - 0s 1ms/step - loss: 14.3555\n",
            "Epoch 4/10\n",
            "16/16 [==============================] - 0s 1ms/step - loss: 14.3724\n",
            "Epoch 5/10\n",
            "16/16 [==============================] - 0s 1ms/step - loss: 14.0959\n",
            "Epoch 6/10\n",
            "16/16 [==============================] - 0s 1ms/step - loss: 13.2653\n",
            "Epoch 7/10\n",
            "16/16 [==============================] - 0s 1ms/step - loss: 13.5218\n",
            "Epoch 8/10\n",
            "16/16 [==============================] - 0s 1ms/step - loss: 13.1342\n",
            "Epoch 9/10\n",
            "16/16 [==============================] - 0s 1ms/step - loss: 13.4080\n",
            "Epoch 10/10\n",
            "16/16 [==============================] - 0s 1ms/step - loss: 13.7534\n"
          ],
          "name": "stdout"
        },
        {
          "output_type": "execute_result",
          "data": {
            "text/plain": [
              "<tensorflow.python.keras.callbacks.History at 0x7f57e6a24470>"
            ]
          },
          "metadata": {
            "tags": []
          },
          "execution_count": 12
        }
      ]
    },
    {
      "cell_type": "markdown",
      "metadata": {
        "id": "zf3o7eEuDUoy"
      },
      "source": [
        "#### 모델 이용"
      ]
    },
    {
      "cell_type": "code",
      "metadata": {
        "colab": {
          "base_uri": "https://localhost:8080/"
        },
        "id": "r_2E0gGRDSa9",
        "outputId": "c6c75cc6-c877-4a7e-c01b-b811c31c8792"
      },
      "source": [
        "print(model.predict(independent_boston[:5]))"
      ],
      "execution_count": 13,
      "outputs": [
        {
          "output_type": "stream",
          "text": [
            "[[30.437943]\n",
            " [20.457735]\n",
            " [31.355253]\n",
            " [31.076683]\n",
            " [27.627798]]\n"
          ],
          "name": "stdout"
        }
      ]
    },
    {
      "cell_type": "code",
      "metadata": {
        "colab": {
          "base_uri": "https://localhost:8080/"
        },
        "id": "wbGvTP-8DeA8",
        "outputId": "a1a40bd2-ab77-41be-e54a-a74aa9bfa11a"
      },
      "source": [
        "print(dependent_boston[:5])"
      ],
      "execution_count": 14,
      "outputs": [
        {
          "output_type": "stream",
          "text": [
            "   medv\n",
            "0  24.0\n",
            "1  21.6\n",
            "2  34.7\n",
            "3  33.4\n",
            "4  36.2\n"
          ],
          "name": "stdout"
        }
      ]
    },
    {
      "cell_type": "code",
      "metadata": {
        "colab": {
          "base_uri": "https://localhost:8080/"
        },
        "id": "n8TnCmwlDgc0",
        "outputId": "3cb8ae8d-97f8-40e0-af23-3ed2eaee273e"
      },
      "source": [
        "# 모델의 수식 확인\r\n",
        "print(model.get_weights())"
      ],
      "execution_count": 15,
      "outputs": [
        {
          "output_type": "stream",
          "text": [
            "[array([[ 1.03804231e-01,  9.95695591e-02, -1.13052666e-01,\n",
            "         7.64460146e-01,  1.99860647e-01,  6.08206056e-02,\n",
            "         2.56475389e-01,  8.10620263e-02,  3.56821954e-01,\n",
            "         2.42122367e-01],\n",
            "       [-4.60735589e-01, -4.10892218e-01,  6.73777461e-02,\n",
            "        -4.48125862e-02,  7.45252788e-01, -5.85666485e-02,\n",
            "         8.62549171e-02,  1.77572146e-02, -4.28631395e-01,\n",
            "        -2.79666603e-01],\n",
            "       [-2.50149488e-01,  4.27654564e-01,  2.44926155e-01,\n",
            "        -4.12203938e-01,  1.14641398e-01, -9.41315070e-02,\n",
            "        -6.08996451e-01, -1.57734025e-02, -2.36057132e-01,\n",
            "        -4.02231842e-01],\n",
            "       [ 2.65647948e-01,  9.26375389e-02,  3.90347004e-01,\n",
            "        -1.65362680e+00,  9.41646755e-01,  1.41074300e+00,\n",
            "         4.86716181e-01,  6.21140718e-01,  3.25928330e-01,\n",
            "        -2.16786885e+00],\n",
            "       [ 3.11630011e-01,  9.28791165e-02, -2.81456172e-01,\n",
            "         7.79973209e-01, -1.21421134e+00,  2.93169498e-01,\n",
            "        -1.25405967e+00,  2.25108579e-01, -1.30060524e-01,\n",
            "        -4.53507364e-01],\n",
            "       [-1.77254826e-01, -3.32361877e-01,  4.02255297e-01,\n",
            "         1.78319979e+00, -1.08693027e+00,  2.42398763e+00,\n",
            "        -2.11563039e+00,  2.43531084e+00, -3.07353213e-02,\n",
            "        -2.23244357e+00],\n",
            "       [ 3.91037583e-01,  2.25612164e-01, -3.90506774e-01,\n",
            "        -6.84046885e-04,  9.54281271e-01, -1.72275770e-02,\n",
            "        -3.37659299e-01,  3.39309499e-02, -5.09603322e-01,\n",
            "         4.66631502e-01],\n",
            "       [-4.94335979e-01, -2.08963454e-01,  2.46457577e-01,\n",
            "         1.46638715e+00, -1.05991066e+00, -5.42560935e-01,\n",
            "        -2.52249002e+00, -6.86297059e-01,  3.77342284e-01,\n",
            "         7.99949288e-01],\n",
            "       [ 1.94352627e-01, -4.07260448e-01, -7.26282597e-03,\n",
            "         5.59474945e-01,  3.69243026e-01,  4.62878019e-01,\n",
            "         1.11410812e-01,  2.93505490e-01, -5.81806153e-02,\n",
            "        -6.77270174e-01],\n",
            "       [-2.57992178e-01, -1.70802534e-01, -3.33644867e-01,\n",
            "         1.65918812e-01,  3.19856815e-02,  5.05817980e-02,\n",
            "         2.19514787e-01, -3.76098789e-03,  1.48942312e-02,\n",
            "         3.06330085e-01],\n",
            "       [-1.25718206e-01,  3.55265081e-01, -4.84867990e-01,\n",
            "        -7.02360272e-01,  3.51529121e-01, -2.42953911e-01,\n",
            "        -4.78136167e-02, -6.94497705e-01, -4.30861473e-01,\n",
            "         8.21068704e-01],\n",
            "       [-1.37591690e-01, -1.53394818e-01, -1.21027827e-02,\n",
            "        -3.00304115e-01, -2.89660811e-01,  2.14314878e-01,\n",
            "        -2.20629349e-01,  1.41898049e-02, -3.27685177e-01,\n",
            "         1.59596607e-01],\n",
            "       [ 8.14757943e-02, -4.87291276e-01,  3.37107718e-01,\n",
            "         3.70822132e-01, -5.89628637e-01, -4.38983411e-01,\n",
            "        -1.43063329e-02, -1.05657029e+00,  1.75922111e-01,\n",
            "         1.40573695e-01]], dtype=float32), array([ 3.7538076e-23,  3.6071901e-17,  1.2724716e-25, -7.2739118e-01,\n",
            "        7.1811163e-01,  1.0613772e+00,  1.7087992e-01,  6.8414259e-01,\n",
            "       -9.7528823e-02, -1.1702826e+00], dtype=float32), array([[-0.33741722],\n",
            "       [-0.26165664],\n",
            "       [-0.06128687],\n",
            "       [-0.43264005],\n",
            "       [ 0.43684712],\n",
            "       [ 0.35558715],\n",
            "       [ 0.32341298],\n",
            "       [ 1.4968055 ],\n",
            "       [ 1.2634208 ],\n",
            "       [-0.09415435]], dtype=float32), array([1.0301702], dtype=float32)]\n"
          ],
          "name": "stdout"
        }
      ]
    },
    {
      "cell_type": "markdown",
      "metadata": {
        "id": "LqcmlMSCDtLK"
      },
      "source": [
        "## 아이리스 품종 분류"
      ]
    },
    {
      "cell_type": "code",
      "metadata": {
        "id": "JbFU6G2eDpZ5"
      },
      "source": [
        "iris_file_path = 'https://raw.githubusercontent.com/blackdew/tensorflow1/master/csv/iris.csv'\r\n",
        "iris = pd.read_csv(iris_file_path)"
      ],
      "execution_count": 16,
      "outputs": []
    },
    {
      "cell_type": "code",
      "metadata": {
        "id": "PgNhOHZUD0dA"
      },
      "source": [
        "# onehot-encoding\r\n",
        "iris = pd.get_dummies(iris)"
      ],
      "execution_count": 17,
      "outputs": []
    },
    {
      "cell_type": "code",
      "metadata": {
        "colab": {
          "base_uri": "https://localhost:8080/"
        },
        "id": "LjmwlVEiELYX",
        "outputId": "d75da17e-3271-4969-c62b-bb8ffda41bff"
      },
      "source": [
        "print(iris.columns)"
      ],
      "execution_count": 18,
      "outputs": [
        {
          "output_type": "stream",
          "text": [
            "Index(['꽃잎길이', '꽃잎폭', '꽃받침길이', '꽃받침폭', '품종_setosa', '품종_versicolor',\n",
            "       '품종_virginica'],\n",
            "      dtype='object')\n"
          ],
          "name": "stdout"
        }
      ]
    },
    {
      "cell_type": "code",
      "metadata": {
        "colab": {
          "base_uri": "https://localhost:8080/"
        },
        "id": "nwEWLBEoEG4e",
        "outputId": "2b56e575-e2ef-41c2-e17d-5e7dd4e1efe6"
      },
      "source": [
        "# 종속변수, 독립변수\r\n",
        "independent_iris = iris[['꽃잎길이', '꽃잎폭', '꽃받침길이', '꽃받침폭']]\r\n",
        "dependent_iris = iris[['품종_setosa', '품종_versicolor','품종_virginica']]\r\n",
        "print(independent_iris.shape, dependent_iris)"
      ],
      "execution_count": 19,
      "outputs": [
        {
          "output_type": "stream",
          "text": [
            "(150, 4)      품종_setosa  품종_versicolor  품종_virginica\n",
            "0            1              0             0\n",
            "1            1              0             0\n",
            "2            1              0             0\n",
            "3            1              0             0\n",
            "4            1              0             0\n",
            "..         ...            ...           ...\n",
            "145          0              0             1\n",
            "146          0              0             1\n",
            "147          0              0             1\n",
            "148          0              0             1\n",
            "149          0              0             1\n",
            "\n",
            "[150 rows x 3 columns]\n"
          ],
          "name": "stdout"
        }
      ]
    },
    {
      "cell_type": "markdown",
      "metadata": {
        "id": "y6GcrEVGEgcZ"
      },
      "source": [
        "#### 모델의 구조 생성"
      ]
    },
    {
      "cell_type": "code",
      "metadata": {
        "id": "S0QYmbLYEfir"
      },
      "source": [
        "X = tf.keras.layers.Input(shape=[4])\r\n",
        "H = tf.keras.layers.Dense(8, activation='swish')(X)\r\n",
        "H = tf.keras.layers.Dense(8, activation='swish')(H)\r\n",
        "H = tf.keras.layers.Dense(8, activation='swish')(H)\r\n",
        "Y = tf.keras.layers.Dense(3, activation='softmax')(H)\r\n",
        "model = tf.keras.models.Model(X, Y)\r\n",
        "model.compile(loss='categorical_crossentropy', metrics='accuracy')"
      ],
      "execution_count": 20,
      "outputs": []
    },
    {
      "cell_type": "code",
      "metadata": {
        "colab": {
          "base_uri": "https://localhost:8080/"
        },
        "id": "aPwzW45MFL-X",
        "outputId": "56223abe-744e-422a-80e8-9cd0f2b20da8"
      },
      "source": [
        "# 모델 구조 확인\r\n",
        "model.summary()"
      ],
      "execution_count": 21,
      "outputs": [
        {
          "output_type": "stream",
          "text": [
            "Model: \"model_2\"\n",
            "_________________________________________________________________\n",
            "Layer (type)                 Output Shape              Param #   \n",
            "=================================================================\n",
            "input_3 (InputLayer)         [(None, 4)]               0         \n",
            "_________________________________________________________________\n",
            "dense_4 (Dense)              (None, 8)                 40        \n",
            "_________________________________________________________________\n",
            "dense_5 (Dense)              (None, 8)                 72        \n",
            "_________________________________________________________________\n",
            "dense_6 (Dense)              (None, 8)                 72        \n",
            "_________________________________________________________________\n",
            "dense_7 (Dense)              (None, 3)                 27        \n",
            "=================================================================\n",
            "Total params: 211\n",
            "Trainable params: 211\n",
            "Non-trainable params: 0\n",
            "_________________________________________________________________\n"
          ],
          "name": "stdout"
        }
      ]
    },
    {
      "cell_type": "markdown",
      "metadata": {
        "id": "fUgWB4M_FPtG"
      },
      "source": [
        "#### 데이터로 모델 학습(fit)"
      ]
    },
    {
      "cell_type": "code",
      "metadata": {
        "colab": {
          "base_uri": "https://localhost:8080/"
        },
        "id": "RShT80x-FN9b",
        "outputId": "889d962f-28f6-4f83-ab30-e889ef3120ae"
      },
      "source": [
        "model.fit(independent_iris, dependent_iris, epochs=100, verbose=0)\r\n",
        "model.fit(independent_iris, dependent_iris, epochs=10)"
      ],
      "execution_count": 22,
      "outputs": [
        {
          "output_type": "stream",
          "text": [
            "Epoch 1/10\n",
            "5/5 [==============================] - 0s 2ms/step - loss: 0.0751 - accuracy: 0.9800\n",
            "Epoch 2/10\n",
            "5/5 [==============================] - 0s 2ms/step - loss: 0.0748 - accuracy: 0.9800\n",
            "Epoch 3/10\n",
            "5/5 [==============================] - 0s 4ms/step - loss: 0.0746 - accuracy: 0.9800\n",
            "Epoch 4/10\n",
            "5/5 [==============================] - 0s 2ms/step - loss: 0.0764 - accuracy: 0.9800\n",
            "Epoch 5/10\n",
            "5/5 [==============================] - 0s 2ms/step - loss: 0.0755 - accuracy: 0.9733\n",
            "Epoch 6/10\n",
            "5/5 [==============================] - 0s 2ms/step - loss: 0.0761 - accuracy: 0.9800\n",
            "Epoch 7/10\n",
            "5/5 [==============================] - 0s 3ms/step - loss: 0.0738 - accuracy: 0.9800\n",
            "Epoch 8/10\n",
            "5/5 [==============================] - 0s 2ms/step - loss: 0.0731 - accuracy: 0.9800\n",
            "Epoch 9/10\n",
            "5/5 [==============================] - 0s 3ms/step - loss: 0.0721 - accuracy: 0.9867\n",
            "Epoch 10/10\n",
            "5/5 [==============================] - 0s 2ms/step - loss: 0.0777 - accuracy: 0.9867\n"
          ],
          "name": "stdout"
        },
        {
          "output_type": "execute_result",
          "data": {
            "text/plain": [
              "<tensorflow.python.keras.callbacks.History at 0x7f57e5843518>"
            ]
          },
          "metadata": {
            "tags": []
          },
          "execution_count": 22
        }
      ]
    },
    {
      "cell_type": "markdown",
      "metadata": {
        "id": "g6GtYToUFbcv"
      },
      "source": [
        "#### 모델 이용"
      ]
    },
    {
      "cell_type": "code",
      "metadata": {
        "colab": {
          "base_uri": "https://localhost:8080/"
        },
        "id": "dCSUPb6vFaEO",
        "outputId": "9bfabbcc-2e0f-4649-821e-37215b64f876"
      },
      "source": [
        "print(model.predict(independent_iris[:5]))"
      ],
      "execution_count": 24,
      "outputs": [
        {
          "output_type": "stream",
          "text": [
            "[[9.99991417e-01 3.20289064e-06 5.35615482e-06]\n",
            " [9.99968529e-01 1.64278281e-05 1.50067162e-05]\n",
            " [9.99971867e-01 1.26553687e-05 1.54669578e-05]\n",
            " [9.99850750e-01 1.01132304e-04 4.81813331e-05]\n",
            " [9.99989033e-01 4.29854254e-06 6.66912638e-06]]\n"
          ],
          "name": "stdout"
        }
      ]
    },
    {
      "cell_type": "code",
      "metadata": {
        "colab": {
          "base_uri": "https://localhost:8080/"
        },
        "id": "TUrXaMRLFjJ9",
        "outputId": "412701e0-1717-4b40-914e-f9c3998291ef"
      },
      "source": [
        "print(dependent_iris[:5])"
      ],
      "execution_count": 25,
      "outputs": [
        {
          "output_type": "stream",
          "text": [
            "   품종_setosa  품종_versicolor  품종_virginica\n",
            "0          1              0             0\n",
            "1          1              0             0\n",
            "2          1              0             0\n",
            "3          1              0             0\n",
            "4          1              0             0\n"
          ],
          "name": "stdout"
        }
      ]
    }
  ]
}