{
  "nbformat": 4,
  "nbformat_minor": 0,
  "metadata": {
    "colab": {
      "name": "Practice1 - lemon_ade _sales",
      "provenance": [],
      "authorship_tag": "ABX9TyOd/74j/phYiGWyTY/sy3lo"
    },
    "kernelspec": {
      "name": "python3",
      "display_name": "Python 3"
    }
  },
  "cells": [
    {
      "cell_type": "markdown",
      "metadata": {
        "id": "Svz-8BbkCv_3"
      },
      "source": [
        "## 레몬에이드 판매 예측\r\n",
        "- github csv url: https://raw.githubusercontent.com/blackdew/tensorflow1/master/csv/lemonade.csv"
      ]
    },
    {
      "cell_type": "markdown",
      "metadata": {
        "id": "35465USmAR88"
      },
      "source": [
        "### 1. 데이터를 준비"
      ]
    },
    {
      "cell_type": "code",
      "metadata": {
        "id": "SOoDKauO_Z0i"
      },
      "source": [
        "# 라이브러리 사용\r\n",
        "import tensorflow as tf\r\n",
        "import pandas as pd"
      ],
      "execution_count": 1,
      "outputs": []
    },
    {
      "cell_type": "code",
      "metadata": {
        "colab": {
          "base_uri": "https://localhost:8080/",
          "height": 194
        },
        "id": "x3OoFjqgAOS2",
        "outputId": "afc5ace8-d811-4c5e-e1ba-bc54fb3f752e"
      },
      "source": [
        "file_path = 'https://raw.githubusercontent.com/blackdew/tensorflow1/master/csv/lemonade.csv'\r\n",
        "lemon_ade = pd.read_csv(file_path)\r\n",
        "lemon_ade.head()"
      ],
      "execution_count": 3,
      "outputs": [
        {
          "output_type": "execute_result",
          "data": {
            "text/html": [
              "<div>\n",
              "<style scoped>\n",
              "    .dataframe tbody tr th:only-of-type {\n",
              "        vertical-align: middle;\n",
              "    }\n",
              "\n",
              "    .dataframe tbody tr th {\n",
              "        vertical-align: top;\n",
              "    }\n",
              "\n",
              "    .dataframe thead th {\n",
              "        text-align: right;\n",
              "    }\n",
              "</style>\n",
              "<table border=\"1\" class=\"dataframe\">\n",
              "  <thead>\n",
              "    <tr style=\"text-align: right;\">\n",
              "      <th></th>\n",
              "      <th>온도</th>\n",
              "      <th>판매량</th>\n",
              "    </tr>\n",
              "  </thead>\n",
              "  <tbody>\n",
              "    <tr>\n",
              "      <th>0</th>\n",
              "      <td>20</td>\n",
              "      <td>40</td>\n",
              "    </tr>\n",
              "    <tr>\n",
              "      <th>1</th>\n",
              "      <td>21</td>\n",
              "      <td>42</td>\n",
              "    </tr>\n",
              "    <tr>\n",
              "      <th>2</th>\n",
              "      <td>22</td>\n",
              "      <td>44</td>\n",
              "    </tr>\n",
              "    <tr>\n",
              "      <th>3</th>\n",
              "      <td>23</td>\n",
              "      <td>46</td>\n",
              "    </tr>\n",
              "    <tr>\n",
              "      <th>4</th>\n",
              "      <td>24</td>\n",
              "      <td>48</td>\n",
              "    </tr>\n",
              "  </tbody>\n",
              "</table>\n",
              "</div>"
            ],
            "text/plain": [
              "   온도  판매량\n",
              "0  20   40\n",
              "1  21   42\n",
              "2  22   44\n",
              "3  23   46\n",
              "4  24   48"
            ]
          },
          "metadata": {
            "tags": []
          },
          "execution_count": 3
        }
      ]
    },
    {
      "cell_type": "markdown",
      "metadata": {
        "id": "jdDqcJ64A1sl"
      },
      "source": [
        "#### 종속변수, 독립변수"
      ]
    },
    {
      "cell_type": "code",
      "metadata": {
        "colab": {
          "base_uri": "https://localhost:8080/"
        },
        "id": "fhrQGMTMAvY6",
        "outputId": "d4c6b941-5c88-451c-b5b5-28f915976664"
      },
      "source": [
        "independent_variable = lemon_ade[['온도']]    # 독립변수\r\n",
        "dependent_variable = lemon_ade[['판매량']]    # 종속변수\r\n",
        "print(independent_variable.shape, dependent_variable.shape)"
      ],
      "execution_count": 4,
      "outputs": [
        {
          "output_type": "stream",
          "text": [
            "(6, 1) (6, 1)\n"
          ],
          "name": "stdout"
        }
      ]
    },
    {
      "cell_type": "markdown",
      "metadata": {
        "id": "PHD0IqnfBa8K"
      },
      "source": [
        "### 2. 모델의 구조를 생성"
      ]
    },
    {
      "cell_type": "code",
      "metadata": {
        "id": "NXWo9er3BWa6"
      },
      "source": [
        "X = tf.keras.layers.Input(shape=[1])      # 독립변수의 columns이 1이기 때문에 shape=[1]\r\n",
        "Y = tf.keras.layers.Dense(1)(X)           # 종속변수의 columns이 1이기 때문에 Dense(1)\r\n",
        "model = tf.keras.models.Model(X, Y)\r\n",
        "model.compile(loss='mse')     # 모델이 힉습할 방법"
      ],
      "execution_count": 6,
      "outputs": []
    },
    {
      "cell_type": "markdown",
      "metadata": {
        "id": "q4m6wSFRB311"
      },
      "source": [
        "### 3. 데이터로 모델을 학습(Fit)"
      ]
    },
    {
      "cell_type": "code",
      "metadata": {
        "colab": {
          "base_uri": "https://localhost:8080/"
        },
        "id": "XdwGOuW0B0Xb",
        "outputId": "739c78f0-4a84-4bc3-d5f4-74c812f2c29a"
      },
      "source": [
        "model.fit(independent_variable, dependent_variable, epochs=1000, verbose=0)     # verbose=0 -> 출력값을 보이지 않게"
      ],
      "execution_count": 9,
      "outputs": [
        {
          "output_type": "execute_result",
          "data": {
            "text/plain": [
              "<tensorflow.python.keras.callbacks.History at 0x7f3e571ca518>"
            ]
          },
          "metadata": {
            "tags": []
          },
          "execution_count": 9
        }
      ]
    },
    {
      "cell_type": "markdown",
      "metadata": {
        "id": "tX1TYDs7CAvd"
      },
      "source": [
        "### 4. 모델을 이용"
      ]
    },
    {
      "cell_type": "code",
      "metadata": {
        "colab": {
          "base_uri": "https://localhost:8080/"
        },
        "id": "uk6JaJy_D5Jm",
        "outputId": "6ba51423-4055-40b5-aaf6-e7e61e0aea3e"
      },
      "source": [
        "model.predict(independent_variable)"
      ],
      "execution_count": 10,
      "outputs": [
        {
          "output_type": "execute_result",
          "data": {
            "text/plain": [
              "array([[40.029556],\n",
              "       [42.013794],\n",
              "       [43.998028],\n",
              "       [45.982265],\n",
              "       [47.966503],\n",
              "       [49.950737]], dtype=float32)"
            ]
          },
          "metadata": {
            "tags": []
          },
          "execution_count": 10
        }
      ]
    },
    {
      "cell_type": "code",
      "metadata": {
        "colab": {
          "base_uri": "https://localhost:8080/"
        },
        "id": "9lm2dCgnB-64",
        "outputId": "aa703e9b-8db5-490a-fd9e-75d6916260a6"
      },
      "source": [
        "print(\"Predictions: \", model.predict([[15]]))"
      ],
      "execution_count": 11,
      "outputs": [
        {
          "output_type": "stream",
          "text": [
            "Predictions:  [[30.108376]]\n"
          ],
          "name": "stdout"
        }
      ]
    }
  ]
}